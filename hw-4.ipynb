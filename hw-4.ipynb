{
 "cells": [
  {
   "cell_type": "markdown",
   "metadata": {},
   "source": [
    "## Homework using the Trapezoid Method, Simpson's Rule and Romberg Integration"
   ]
  },
  {
   "cell_type": "markdown",
   "metadata": {},
   "source": [
    "##       The function that will be integrated is as follows\n",
    "####                       f(x)=(e^(-2x))(cos(10x))"
   ]
  },
  {
   "cell_type": "code",
   "execution_count": null,
   "metadata": {},
   "outputs": [],
   "source": [
    "%matplotlib inline\n",
    "import numpy as np\n",
    "import matplotlib.pyplot as plt"
   ]
  },
  {
   "cell_type": "markdown",
   "metadata": {},
   "source": [
    "##### Defining some color to make the font look beautiful "
   ]
  },
  {
   "cell_type": "code",
   "execution_count": null,
   "metadata": {},
   "outputs": [],
   "source": [
    "class colors:\n",
    "    #will use colors.subclass.colorname to print\n",
    "    #two subclasses: \n",
    "        #fg=foreground, bg=background\n",
    "    reset='\\033[0m' #reset all colors with colors.reset\n",
    "    bold='\\033[01m'\n",
    "    underline='\\033[04m'\n",
    "    strikethrough='\\033[09m'\n",
    "    class fg:  #foreground subclass\n",
    "        red='\\033[31m'\n",
    "        green='\\033[32m'\n",
    "        orange='\\033[33m'\n",
    "        blue='\\033[34m'\n",
    "        purple='\\033[35m'\n",
    "        cyan='\\033[36m'\n",
    "        lightblue='\\033[94m'\n",
    "        pink='\\033[95m'\n",
    "        lightcyan='\\033[96m'\n",
    "    class bg: #background subclass\n",
    "        black='\\033[40m'\n",
    "        red='\\033[41m'\n",
    "        purple='\\033[45m'"
   ]
  },
  {
   "cell_type": "markdown",
   "metadata": {},
   "source": [
    "### Define a function for taking an integral"
   ]
  },
  {
   "cell_type": "code",
   "execution_count": null,
   "metadata": {},
   "outputs": [],
   "source": [
    "def func(x):\n",
    "    return np.exp(-2 * x) * np.cos(10 * x)"
   ]
  },
  {
   "cell_type": "markdown",
   "metadata": {},
   "source": [
    "### Define it's integral so we know the right answer"
   ]
  },
  {
   "cell_type": "markdown",
   "metadata": {},
   "source": [
    "The integral of the function is:\n",
    "{[[5(e^(-2x))]/52][(sin(10x))-(cos(10x)]} + C"
   ]
  },
  {
   "cell_type": "code",
   "execution_count": null,
   "metadata": {},
   "outputs": [],
   "source": [
    "def func_integral(x):\n",
    "    return ((5 * np.exp(-2 * x) * np.sin(10 * x)) / 52) - ((5 * exp(-2 * x) * np.cos(10*x)) / 52) + C"
   ]
  },
  {
   "cell_type": "markdown",
   "metadata": {},
   "source": [
    "## Define the core of the trapezoid method"
   ]
  },
  {
   "cell_type": "code",
   "execution_count": null,
   "metadata": {},
   "outputs": [],
   "source": [
    "def trapezoid_core(f,x,h):\n",
    "    return 0.5*h*(f(x+h) + f(x))"
   ]
  },
  {
   "cell_type": "markdown",
   "metadata": {},
   "source": [
    "### Define a wrapper function to perform trapezoid method"
   ]
  },
  {
   "cell_type": "code",
   "execution_count": null,
   "metadata": {},
   "outputs": [],
   "source": [
    "def trapezoid_method(f,a,b,N):\n",
    "    #f == function to integrate\n",
    "    #a == lower limit of integration\n",
    "    #b == upper limit of integration\n",
    "    #N == number of functions\n",
    "    #note; number of chunks will be N-1\n",
    "    #so if the N is odd, then we don't need to adjust the\n",
    "    #last segment\n",
    "    \n",
    "    #define x values to perform simpsons rule\n",
    "    x = np.linspace(a,b,N)\n",
    "    h = x[1]-x[0]\n",
    "    \n",
    "    #define the value of the integral\n",
    "    Fint = 0.0\n",
    "    \n",
    "    #perform the integral using the trapezoid method\n",
    "    for i in range(0,len(x)-1,1):\n",
    "        Fint += trapezoid_core(f,x[i],h)\n",
    "        #print(i,i+1,x[i]+h,x[-2],x[-1])\n",
    "        \n",
    "    #print number of iterations\n",
    "    print(\"Number of iterations:\", colors.fg.red,i,colors.reset)    \n",
    "    #return the answer\n",
    "    return Fint"
   ]
  },
  {
   "cell_type": "markdown",
   "metadata": {},
   "source": [
    "### Define the core of the Simpson's Method"
   ]
  },
  {
   "cell_type": "code",
   "execution_count": null,
   "metadata": {},
   "outputs": [],
   "source": [
    "def simpson_core(f,x,h):\n",
    "    return h*( f(x) + 4*f(x+h) + f(x+2*h))/3"
   ]
  },
  {
   "cell_type": "markdown",
   "metadata": {},
   "source": [
    "### Define a wrapper function to perform Simpson's Method"
   ]
  },
  {
   "cell_type": "code",
   "execution_count": null,
   "metadata": {},
   "outputs": [],
   "source": [
    "def simpsons_method(f,a,b,N):\n",
    "    #f == function to integrate\n",
    "    #a == lower lim of integration\n",
    "    #b == upper lim of integration\n",
    "    #N == number of function evaluations to use\n",
    "    #NOTE: the number of chunks will be N-1\n",
    "    #so if N is odd, then we don't need to adjust the last segment\n",
    "    \n",
    "    #define x values to perform simpsons rule\n",
    "    x = np.linspace(a,b,N)\n",
    "    h = x[1]-x[0]\n",
    "    \n",
    "    #def the value of the integral\n",
    "    Fint = 0.0\n",
    "    \n",
    "    #perform the integral using the simpson's method\n",
    "    for i in range(0,len(x)-2,2):\n",
    "        Fint += simpson_core(f,x[i],h)\n",
    "        \n",
    "    #apply simpson's rule over the last interval\n",
    "    #if N is even\n",
    "    if((N%2)==0):\n",
    "        Fint += simpson_core(f,x[-2],0.5*h)\n",
    "    \n",
    "    #print number of iterations\n",
    "    print(\"Number of iterations:\", colors.fg.red,i,colors.reset)\n",
    "    return Fint"
   ]
  },
  {
   "cell_type": "markdown",
   "metadata": {},
   "source": [
    "## Define the Romberg integration core"
   ]
  },
  {
   "cell_type": "code",
   "execution_count": null,
   "metadata": {},
   "outputs": [],
   "source": [
    "def romberg_core(f,a,b,i):\n",
    "    \n",
    "    #we need the difference b-a\n",
    "    h = b-a\n",
    "    \n",
    "    #and the increment between new func evals\n",
    "    dh = h/2.**(i)\n",
    "    \n",
    "    #we need a cofactor\n",
    "    K = h/2.**(i+1)\n",
    "    \n",
    "    #and the function evaluations\n",
    "    M = 0.0\n",
    "    for j in range(2**i):\n",
    "        M += f(a + 0.5*dh + j*dh)\n",
    "    \n",
    "    #print number of iterations\n",
    "    print(\"Number of iterations:\", colors.fg.red,i,colors.reset)\n",
    "    #return the answer\n",
    "    return K*M"
   ]
  },
  {
   "cell_type": "markdown",
   "metadata": {},
   "source": [
    "## Define a wrapper function to perform Romberg Integration"
   ]
  },
  {
   "cell_type": "code",
   "execution_count": null,
   "metadata": {},
   "outputs": [],
   "source": [
    "def romberg_integration(f,a,b,tol):\n",
    "    \n",
    "    #define an iteration variable\n",
    "    i = 0\n",
    "    \n",
    "    #define a maximum number of iterations\n",
    "    imax = 1000\n",
    "    \n",
    "    #define an error estimate, set to a large value\n",
    "    delta = 100.0*np.fabs(tol)\n",
    "    \n",
    "    #set an array of integral answer\n",
    "    I = np.zeros(imax,dtype=float)\n",
    "    \n",
    "    #get the zeroth romberg iteration\n",
    "    I[0] = 0.5*(b-a)*(f(a)+ f(b))\n",
    "    \n",
    "    #iterate by 1\n",
    "    i += 1\n",
    "    \n",
    "    while(delta>tol):\n",
    "        \n",
    "        #find this romberg iteration\n",
    "        I[i] = 0.5*I[i-1] + romberg_core(f,a,b,i)\n",
    "        \n",
    "        #compute the new fractional error\n",
    "        delta = np.fabs( (I[i]-I[i-1])/I[i])\n",
    "        \n",
    "        print(i,I[i],I[i-1],delta)\n",
    "        \n",
    "        if (delta>tol):\n",
    "            \n",
    "            #iterate\n",
    "            i+=1\n",
    "            \n",
    "            #check max iterations\n",
    "            if(i>imax):\n",
    "                print(\"Max iterations reached.\")\n",
    "                raise StopIteration('Stopping iterations after ',i)\n",
    "                \n",
    "    #print number of iterations\n",
    "    print(\"Number of iterations:\", colors.fg.red,i,colors.reset)            \n",
    "    #return the answer\n",
    "    return I[i]"
   ]
  },
  {
   "cell_type": "markdown",
   "metadata": {},
   "source": [
    "## Find out the answer"
   ]
  },
  {
   "cell_type": "code",
   "execution_count": null,
   "metadata": {},
   "outputs": [],
   "source": [
    "def Answer(x):\n",
    "    return func_integral(1)-func_integral(0)"
   ]
  },
  {
   "cell_type": "code",
   "execution_count": null,
   "metadata": {},
   "outputs": [],
   "source": [
    "print(colors.bold, colors.fg.cyan, colors.bg.red,\"Answer\\n\")\n",
    "print(colors.reset,Answer)\n",
    "print(\"\\n\")\n",
    "print(colors.underline, colors.fg.blue,\"Trapezoid\")\n",
    "print(colors.reset, trapezoid_method(func,0,1,10))\n",
    "print(\"\\n\")\n",
    "print(colors.underline, colors.fg.purple,\"Simpson's Method\")\n",
    "print(colors.reset, simpsons_method(func,0,1,10))\n",
    "print(\"\\n\")\n",
    "print(colors.bold, colors.underline, colors.fg.red,\"Romberg\", colors.reset)\n",
    "tolerance = 1.0e-6\n",
    "RI = romberg_integration(func,0,1,tolerance)\n",
    "print(colors.reset,\"\\n\")"
   ]
  },
  {
   "cell_type": "markdown",
   "metadata": {},
   "source": [
    "Note: Help writing code for the font formatting was provided by geeksforgeeks.org; was not copied and pasted, but figured I would give credit where it was due."
   ]
  }
 ],
 "metadata": {
  "kernelspec": {
   "display_name": "Python 3",
   "language": "python",
   "name": "python3"
  },
  "language_info": {
   "codemirror_mode": {
    "name": "ipython",
    "version": 3
   },
   "file_extension": ".py",
   "mimetype": "text/x-python",
   "name": "python",
   "nbconvert_exporter": "python",
   "pygments_lexer": "ipython3",
   "version": "3.7.0"
  }
 },
 "nbformat": 4,
 "nbformat_minor": 2
}
